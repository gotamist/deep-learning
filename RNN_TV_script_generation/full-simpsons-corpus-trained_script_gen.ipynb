{
 "cells": [
  {
   "cell_type": "markdown",
   "metadata": {},
   "source": [
    "# TV Script Generation\n",
    "In this project, you'll generate your own [Simpsons](https://en.wikipedia.org/wiki/The_Simpsons) TV scripts using RNNs.  You'll be using part of the [Simpsons dataset](https://www.kaggle.com/wcukierski/the-simpsons-by-the-data) of scripts from 27 seasons.  The Neural Network you'll build will generate a new TV script for a scene at [Moe's Tavern](https://simpsonswiki.com/wiki/Moe's_Tavern).\n",
    "## Get the Data\n",
    "The data is already provided for you.  You'll be using a subset of the original dataset.  It consists of only the scenes in Moe's Tavern.  This doesn't include other versions of the tavern, like \"Moe's Cavern\", \"Flaming Moe's\", \"Uncle Moe's Family Feed-Bag\", etc.."
   ]
  },
  {
   "cell_type": "code",
   "execution_count": 1,
   "metadata": {},
   "outputs": [],
   "source": [
    "\"\"\"\n",
    "DON'T MODIFY ANYTHING IN THIS CELL\n",
    "\"\"\"\n",
    "import helper\n",
    "data_dir = './data/simpsons/full_history.txt'\n",
    "\n",
    "# data_dir = './data/simpsons/moes_tavern_lines.txt'\n",
    "text = helper.load_data(data_dir)\n",
    "# Ignore notice, since we don't use it for analysing the data\n",
    "text = text[81:]"
   ]
  },
  {
   "cell_type": "code",
   "execution_count": 2,
   "metadata": {},
   "outputs": [
    {
     "data": {
      "text/plain": [
       "\"Miss Hoover: No, actually, it was a little of both. Sometimes when a disease is in all the magazines and all the news shows, it's only natural that you think you have it.\\nLisa Simpson: (NEAR TEARS) Where's Mr. Bergstrom?\\nMiss Hoover: I don't know. Although I'd sure like to talk to him. He didn't touch my lesson plan. What did he teach you?\\nLisa Simpson: That life is worth living.\\nEdna Krabappel-Flanders: The polls will be open from now until the end of recess. Now, (SOUR) just in case any of you\""
      ]
     },
     "execution_count": 2,
     "metadata": {},
     "output_type": "execute_result"
    }
   ],
   "source": [
    "text[0:500]"
   ]
  },
  {
   "cell_type": "markdown",
   "metadata": {},
   "source": [
    "## Explore the Data\n",
    "Play around with `view_sentence_range` to view different parts of the data."
   ]
  },
  {
   "cell_type": "code",
   "execution_count": 3,
   "metadata": {},
   "outputs": [
    {
     "name": "stdout",
     "output_type": "stream",
     "text": [
      "Dataset Stats\n",
      "Roughly the number of unique words: 136594\n",
      "Number of scenes: 1\n",
      "Average number of sentences in each scene: 158234.0\n",
      "Number of lines: 158235\n",
      "Average number of words in each line: 11.663614244636143\n",
      "\n",
      "The sentences 0 to 10:\n",
      "Miss Hoover: No, actually, it was a little of both. Sometimes when a disease is in all the magazines and all the news shows, it's only natural that you think you have it.\n",
      "Lisa Simpson: (NEAR TEARS) Where's Mr. Bergstrom?\n",
      "Miss Hoover: I don't know. Although I'd sure like to talk to him. He didn't touch my lesson plan. What did he teach you?\n",
      "Lisa Simpson: That life is worth living.\n",
      "Edna Krabappel-Flanders: The polls will be open from now until the end of recess. Now, (SOUR) just in case any of you have decided to put any thought into this, we'll have our final statements. Martin?\n",
      "Martin Prince: (HOARSE WHISPER) I don't think there's anything left to say.\n",
      "Edna Krabappel-Flanders: Bart?\n",
      "Bart Simpson: Victory party under the slide!\n",
      "(Apartment Building: Ext. apartment building - day)\n",
      "Lisa Simpson: (CALLING) Mr. Bergstrom! Mr. Bergstrom!\n"
     ]
    }
   ],
   "source": [
    "view_sentence_range = (0, 10)\n",
    "\n",
    "\"\"\"\n",
    "DON'T MODIFY ANYTHING IN THIS CELL\n",
    "\"\"\"\n",
    "import numpy as np\n",
    "\n",
    "print('Dataset Stats')\n",
    "print('Roughly the number of unique words: {}'.format(len({word: None for word in text.split()})))\n",
    "scenes = text.split('\\n\\n')\n",
    "print('Number of scenes: {}'.format(len(scenes)))\n",
    "sentence_count_scene = [scene.count('\\n') for scene in scenes]\n",
    "print('Average number of sentences in each scene: {}'.format(np.average(sentence_count_scene)))\n",
    "\n",
    "sentences = [sentence for scene in scenes for sentence in scene.split('\\n')]\n",
    "print('Number of lines: {}'.format(len(sentences)))\n",
    "word_count_sentence = [len(sentence.split()) for sentence in sentences]\n",
    "print('Average number of words in each line: {}'.format(np.average(word_count_sentence)))\n",
    "\n",
    "print()\n",
    "print('The sentences {} to {}:'.format(*view_sentence_range))\n",
    "print('\\n'.join(text.split('\\n')[view_sentence_range[0]:view_sentence_range[1]]))"
   ]
  },
  {
   "cell_type": "markdown",
   "metadata": {},
   "source": [
    "## Implement Preprocessing Functions\n",
    "The first thing to do to any dataset is preprocessing.  Implement the following preprocessing functions below:\n",
    "- Lookup Table\n",
    "- Tokenize Punctuation\n",
    "\n",
    "### Lookup Table\n",
    "To create a word embedding, you first need to transform the words to ids.  In this function, create two dictionaries:\n",
    "- Dictionary to go from the words to an id, we'll call `vocab_to_int`\n",
    "- Dictionary to go from the id to word, we'll call `int_to_vocab`\n",
    "\n",
    "Return these dictionaries in the following tuple `(vocab_to_int, int_to_vocab)`"
   ]
  },
  {
   "cell_type": "code",
   "execution_count": 4,
   "metadata": {},
   "outputs": [
    {
     "name": "stderr",
     "output_type": "stream",
     "text": [
      "/home/thojo/anaconda3/lib/python3.6/site-packages/h5py/__init__.py:36: FutureWarning: Conversion of the second argument of issubdtype from `float` to `np.floating` is deprecated. In future, it will be treated as `np.float64 == np.dtype(float).type`.\n",
      "  from ._conv import register_converters as _register_converters\n"
     ]
    },
    {
     "name": "stdout",
     "output_type": "stream",
     "text": [
      "WARNING:tensorflow:From /home/thojo/anaconda3/lib/python3.6/site-packages/tensorflow/contrib/learn/python/learn/datasets/base.py:198: retry (from tensorflow.contrib.learn.python.learn.datasets.base) is deprecated and will be removed in a future version.\n",
      "Instructions for updating:\n",
      "Use the retry module or similar alternatives.\n",
      "Tests Passed\n"
     ]
    }
   ],
   "source": [
    "import numpy as np\n",
    "import problem_unittests as tests\n",
    "\n",
    "def create_lookup_tables(text):\n",
    "    \"\"\"\n",
    "    Create lookup tables for vocabulary\n",
    "    :param text: The text of tv scripts split into words\n",
    "    :return: A tuple of dicts (vocab_to_int, int_to_vocab)\n",
    "    \"\"\"\n",
    "    # done: Implement Function\n",
    "#     scenes = text.split('\\n\\n')\n",
    "#     sentences = [sentence for scene in scenes for sentence in scene.split('\\n')]\n",
    "#     words = []\n",
    "#     # punctuations will be dealt with later\n",
    "#     for sentence in sentences:\n",
    "#         words.append(sentence.split())\n",
    "    \n",
    "    #student comment: Note that \"text\" here is a different data type.  It is not one long string as it is earlier in this notebook.  It's already a list of words.\n",
    "    vocab = sorted(set(text))\n",
    "    vocab_to_int = {word: ii for ii, word in enumerate(vocab)}\n",
    "    int_to_vocab = {ii: word for ii, word in enumerate(vocab)}\n",
    "    return vocab_to_int, int_to_vocab\n",
    "\n",
    "\n",
    "\"\"\"\n",
    "DON'T MODIFY ANYTHING IN THIS CELL THAT IS BELOW THIS LINE\n",
    "\"\"\"\n",
    "tests.test_create_lookup_tables(create_lookup_tables)"
   ]
  },
  {
   "cell_type": "markdown",
   "metadata": {},
   "source": [
    "### Tokenize Punctuation\n",
    "We'll be splitting the script into a word array using spaces as delimiters.  However, punctuations like periods and exclamation marks make it hard for the neural network to distinguish between the word \"bye\" and \"bye!\".\n",
    "\n",
    "Implement the function `token_lookup` to return a dict that will be used to tokenize symbols like \"!\" into \"||Exclamation_Mark||\".  Create a dictionary for the following symbols where the symbol is the key and value is the token:\n",
    "- Period ( . )\n",
    "- Comma ( , )\n",
    "- Quotation Mark ( \" )\n",
    "- Semicolon ( ; )\n",
    "- Exclamation mark ( ! )\n",
    "- Question mark ( ? )\n",
    "- Left Parentheses ( ( )\n",
    "- Right Parentheses ( ) )\n",
    "- Dash ( -- )\n",
    "- Return ( \\n )\n",
    "\n",
    "This dictionary will be used to token the symbols and add the delimiter (space) around it.  This separates the symbols as it's own word, making it easier for the neural network to predict on the next word. Make sure you don't use a token that could be confused as a word. Instead of using the token \"dash\", try using something like \"||dash||\"."
   ]
  },
  {
   "cell_type": "code",
   "execution_count": 5,
   "metadata": {},
   "outputs": [
    {
     "name": "stdout",
     "output_type": "stream",
     "text": [
      "Tests Passed\n"
     ]
    }
   ],
   "source": [
    "def token_lookup():\n",
    "    \"\"\"\n",
    "    Generate a dict to turn punctuation into a token.\n",
    "    :return: Tokenize dictionary where the key is the punctuation and the value is the token\n",
    "    \"\"\"\n",
    "    # done: Implement Function\n",
    "    punct = {'.':'||Period||',\n",
    "             ',':'||Comma||',\n",
    "             '\\\"':'||Double_Quotation||',\n",
    "             ';':'||Semi_Colon||',\n",
    "             '!':'||Exclamation_Mark||',\n",
    "             '?':'||Question_Mark||',\n",
    "             '(':'||Left_Parentheses||',\n",
    "             ')':'||Right_Parentheses||',\n",
    "             '--':'||Dash||',\n",
    "             '\\n':'||Newline||',\n",
    "             }\n",
    "    return punct\n",
    "\n",
    "\"\"\"\n",
    "DON'T MODIFY ANYTHING IN THIS CELL THAT IS BELOW THIS LINE\n",
    "\"\"\"\n",
    "tests.test_tokenize(token_lookup)"
   ]
  },
  {
   "cell_type": "markdown",
   "metadata": {},
   "source": [
    "## Preprocess all the data and save it\n",
    "Running the code cell below will preprocess all the data and save it to file."
   ]
  },
  {
   "cell_type": "code",
   "execution_count": 6,
   "metadata": {},
   "outputs": [],
   "source": [
    "\"\"\"\n",
    "DON'T MODIFY ANYTHING IN THIS CELL\n",
    "\"\"\"\n",
    "# Preprocess Training, Validation, and Testing Data\n",
    "helper.preprocess_and_save_data(data_dir, token_lookup, create_lookup_tables)"
   ]
  },
  {
   "cell_type": "markdown",
   "metadata": {},
   "source": [
    "# Check Point\n",
    "This is your first checkpoint. If you ever decide to come back to this notebook or have to restart the notebook, you can start from here. The preprocessed data has been saved to disk."
   ]
  },
  {
   "cell_type": "code",
   "execution_count": 7,
   "metadata": {},
   "outputs": [],
   "source": [
    "\"\"\"\n",
    "DON'T MODIFY ANYTHING IN THIS CELL\n",
    "\"\"\"\n",
    "import helper\n",
    "import numpy as np\n",
    "import problem_unittests as tests\n",
    "\n",
    "int_text, vocab_to_int, int_to_vocab, token_dict = helper.load_preprocess()"
   ]
  },
  {
   "cell_type": "markdown",
   "metadata": {},
   "source": [
    "## Build the Neural Network\n",
    "You'll build the components necessary to build a RNN by implementing the following functions below:\n",
    "- get_inputs\n",
    "- get_init_cell\n",
    "- get_embed\n",
    "- build_rnn\n",
    "- build_nn\n",
    "- get_batches\n",
    "\n",
    "### Check the Version of TensorFlow and Access to GPU"
   ]
  },
  {
   "cell_type": "code",
   "execution_count": 8,
   "metadata": {},
   "outputs": [
    {
     "name": "stdout",
     "output_type": "stream",
     "text": [
      "TensorFlow Version: 1.7.0\n",
      "Default GPU Device: /device:GPU:0\n"
     ]
    }
   ],
   "source": [
    "\"\"\"\n",
    "DON'T MODIFY ANYTHING IN THIS CELL\n",
    "\"\"\"\n",
    "from distutils.version import LooseVersion\n",
    "import warnings\n",
    "import tensorflow as tf\n",
    "\n",
    "# Check TensorFlow Version\n",
    "assert LooseVersion(tf.__version__) >= LooseVersion('1.3'), 'Please use TensorFlow version 1.3 or newer'\n",
    "print('TensorFlow Version: {}'.format(tf.__version__))\n",
    "\n",
    "# Check for a GPU\n",
    "if not tf.test.gpu_device_name():\n",
    "    warnings.warn('No GPU found. Please use a GPU to train your neural network.')\n",
    "else:\n",
    "    print('Default GPU Device: {}'.format(tf.test.gpu_device_name()))"
   ]
  },
  {
   "cell_type": "markdown",
   "metadata": {},
   "source": [
    "### Input\n",
    "Implement the `get_inputs()` function to create TF Placeholders for the Neural Network.  It should create the following placeholders:\n",
    "- Input text placeholder named \"input\" using the [TF Placeholder](https://www.tensorflow.org/api_docs/python/tf/placeholder) `name` parameter.\n",
    "- Targets placeholder\n",
    "- Learning Rate placeholder\n",
    "\n",
    "Return the placeholders in the following tuple `(Input, Targets, LearningRate)`"
   ]
  },
  {
   "cell_type": "code",
   "execution_count": 9,
   "metadata": {},
   "outputs": [
    {
     "name": "stdout",
     "output_type": "stream",
     "text": [
      "Tests Passed\n"
     ]
    }
   ],
   "source": [
    "def get_inputs():\n",
    "    \"\"\"\n",
    "    Create TF Placeholders for input, targets, and learning rate.\n",
    "    :return: Tuple (input, targets, learning rate)\n",
    "    \"\"\"\n",
    "    # done: Implement Function\n",
    "    input_ = tf.placeholder( tf.int32, [None, None], name = 'input')\n",
    "    targets_ = tf.placeholder( tf.int32, [None, None], name = 'targets')\n",
    "    learning_rate = tf.placeholder( tf.float32, name = 'learning_rate')\n",
    "    return input_, targets_, learning_rate\n",
    "\n",
    "\n",
    "\"\"\"\n",
    "DON'T MODIFY ANYTHING IN THIS CELL THAT IS BELOW THIS LINE\n",
    "\"\"\"\n",
    "tests.test_get_inputs(get_inputs)"
   ]
  },
  {
   "cell_type": "markdown",
   "metadata": {},
   "source": [
    "### Build RNN Cell and Initialize\n",
    "Stack one or more [`BasicLSTMCells`](https://www.tensorflow.org/api_docs/python/tf/contrib/rnn/BasicLSTMCell) in a [`MultiRNNCell`](https://www.tensorflow.org/api_docs/python/tf/contrib/rnn/MultiRNNCell).\n",
    "- The Rnn size should be set using `rnn_size`\n",
    "- Initalize Cell State using the MultiRNNCell's [`zero_state()`](https://www.tensorflow.org/api_docs/python/tf/contrib/rnn/MultiRNNCell#zero_state) function\n",
    "    - Apply the name \"initial_state\" to the initial state using [`tf.identity()`](https://www.tensorflow.org/api_docs/python/tf/identity)\n",
    "\n",
    "Return the cell and initial state in the following tuple `(Cell, InitialState)`"
   ]
  },
  {
   "cell_type": "code",
   "execution_count": 10,
   "metadata": {},
   "outputs": [],
   "source": [
    "def build_cell(num_units, keep_prob=0.8):\n",
    "    lstm = tf.contrib.rnn.BasicLSTMCell(num_units)\n",
    "    drop = tf.contrib.rnn.DropoutWrapper(lstm, output_keep_prob=keep_prob) #adding dropout\n",
    "    return drop    "
   ]
  },
  {
   "cell_type": "code",
   "execution_count": 11,
   "metadata": {},
   "outputs": [
    {
     "name": "stdout",
     "output_type": "stream",
     "text": [
      "Tests Passed\n"
     ]
    }
   ],
   "source": [
    "def get_init_cell(batch_size, rnn_size):\n",
    "    \"\"\"\n",
    "    Create an RNN Cell and initialize it.\n",
    "    :param batch_size: Size of batches\n",
    "    :param rnn_size: Size of RNNs (TJ: dimension of the hidden state of the LSTM cell)\n",
    "    :return: Tuple (cell, initialize state)\n",
    "    \"\"\"\n",
    "    # done: Implement Function\n",
    "    \n",
    "    lstm_layers = 2\n",
    "    ### Stack up multiple LSTM layers, for deep learning\n",
    "#     cell = tf.contrib.rnn.MultiRNNCell([ lstm ]*lstm_layers) \n",
    "#     lstm = tf.contrib.rnn.BasicLSTMCell( rnn_size )   \n",
    "#     no dropout.  If desired, add it like this and define cell as [drop]*lstm_layers\n",
    "#     drop = tf.contrib.rnn.DropoutWrapper( lstm, output_keep_prob=keep_prob)\n",
    "#     this is what I first had (works for TensorFlow 1.0.  For later versions, do as below i.e., [cell]*lstm_layers doesn't work)\n",
    "\n",
    "    cell=tf.contrib.rnn.MultiRNNCell( [build_cell(rnn_size) for _ in range(lstm_layers)])   \n",
    "      \n",
    "    # Getting an initial state of all zeros\n",
    "    initial_state = cell.zero_state(batch_size, tf.float32)\n",
    "    initial_state = tf.identity(initial_state, name='initial_state') #gotamist: why was this necessary? There are other scripts (Sentiment_RNN for example), where the initial state has been set without a name\n",
    "    return cell, initial_state\n",
    "\n",
    "\n",
    "\"\"\"\n",
    "DON'T MODIFY ANYTHING IN THIS CELL THAT IS BELOW THIS LINE\n",
    "\"\"\"\n",
    "tests.test_get_init_cell(get_init_cell)"
   ]
  },
  {
   "cell_type": "markdown",
   "metadata": {},
   "source": [
    "### Word Embedding\n",
    "Apply embedding to `input_data` using TensorFlow.  Return the embedded sequence."
   ]
  },
  {
   "cell_type": "code",
   "execution_count": 12,
   "metadata": {},
   "outputs": [
    {
     "name": "stdout",
     "output_type": "stream",
     "text": [
      "Tests Passed\n"
     ]
    }
   ],
   "source": [
    "def get_embed(input_data, vocab_size, embed_dim):\n",
    "    \"\"\"\n",
    "    Create embedding for <input_data>.\n",
    "    :param input_data: TF placeholder for text input.\n",
    "    :param vocab_size: Number of words in vocabulary.\n",
    "    :param embed_dim: Number of embedding dimensions\n",
    "    :return: Embedded input.\n",
    "    \"\"\"\n",
    "    # done: Implement Function\n",
    "\n",
    "    embedding = tf.Variable( tf.random_uniform(( vocab_size, embed_dim), -1, 1) )\n",
    "    embed = tf.nn.embedding_lookup( embedding, input_data)\n",
    "    return embed\n",
    "\n",
    "\"\"\"\n",
    "DON'T MODIFY ANYTHING IN THIS CELL THAT IS BELOW THIS LINE\n",
    "\"\"\"\n",
    "tests.test_get_embed(get_embed)"
   ]
  },
  {
   "cell_type": "markdown",
   "metadata": {},
   "source": [
    "### Build RNN\n",
    "You created a RNN Cell in the `get_init_cell()` function.  Time to use the cell to create a RNN.\n",
    "- Build the RNN using the [`tf.nn.dynamic_rnn()`](https://www.tensorflow.org/api_docs/python/tf/nn/dynamic_rnn)\n",
    " - Apply the name \"final_state\" to the final state using [`tf.identity()`](https://www.tensorflow.org/api_docs/python/tf/identity)\n",
    "\n",
    "Return the outputs and final_state state in the following tuple `(Outputs, FinalState)` "
   ]
  },
  {
   "cell_type": "code",
   "execution_count": 13,
   "metadata": {},
   "outputs": [
    {
     "name": "stdout",
     "output_type": "stream",
     "text": [
      "Tests Passed\n"
     ]
    }
   ],
   "source": [
    "def build_rnn(cell, inputs):\n",
    "    \"\"\"\n",
    "    Create a RNN using a RNN Cell\n",
    "    :param cell: RNN Cell\n",
    "    :param inputs: Input text data\n",
    "    :return: Tuple (Outputs, Final State)\n",
    "    \"\"\"\n",
    "    # done: Implement Function\n",
    "    outputs, final_state = tf.nn.dynamic_rnn(cell, inputs, dtype='float32')\n",
    "    final_state = tf.identity(final_state, name='final_state')\n",
    "    return outputs, final_state\n",
    "\n",
    "\"\"\"\n",
    "DON'T MODIFY ANYTHING IN THIS CELL THAT IS BELOW THIS LINE\n",
    "\"\"\"\n",
    "tests.test_build_rnn(build_rnn)"
   ]
  },
  {
   "cell_type": "markdown",
   "metadata": {},
   "source": [
    "### Build the Neural Network\n",
    "Apply the functions you implemented above to:\n",
    "- Apply embedding to `input_data` using your `get_embed(input_data, vocab_size, embed_dim)` function.\n",
    "- Build RNN using `cell` and your `build_rnn(cell, inputs)` function.\n",
    "- Apply a fully connected layer with a linear activation and `vocab_size` as the number of outputs.\n",
    "\n",
    "Return the logits and final state in the following tuple (Logits, FinalState) "
   ]
  },
  {
   "cell_type": "code",
   "execution_count": 14,
   "metadata": {},
   "outputs": [
    {
     "name": "stdout",
     "output_type": "stream",
     "text": [
      "Tests Passed\n"
     ]
    }
   ],
   "source": [
    "def build_nn(cell, rnn_size, input_data, vocab_size, embed_dim):\n",
    "    \"\"\"\n",
    "    Build part of the neural network\n",
    "    :param cell: RNN cell\n",
    "    :param rnn_size: Size of rnns\n",
    "    :param input_data: Input data\n",
    "    :param vocab_size: Vocabulary size\n",
    "    :param embed_dim: Number of embedding dimensions\n",
    "    :return: Tuple (Logits, FinalState)\n",
    "    \"\"\"\n",
    "    # done: Implement Function\n",
    "    embed = get_embed(input_data, vocab_size, embed_dim)    \n",
    "    outputs, final_state = build_rnn(cell, embed)\n",
    "#     logits = tf.layers.dense(outputs, units=vocab_size, activation=None) #trying the line below recommended by reviewer (includes initialization)\n",
    "    logits = tf.contrib.layers.fully_connected(outputs,vocab_size,activation_fn=None, weights_initializer=tf.truncated_normal_initializer(stddev= 0.1),biases_initializer=tf.zeros_initializer())\n",
    "\n",
    "    #     logits=tf.contrib.layers.fully_connected(outputs, vocab_size, activation_fn=None)\n",
    "    # gotamist: both lines are legit for logits. fully_connected, behind the scenes, just calls tf.layers.dense\n",
    "    return logits, final_state\n",
    "\n",
    "\n",
    "\"\"\"\n",
    "DON'T MODIFY ANYTHING IN THIS CELL THAT IS BELOW THIS LINE\n",
    "\"\"\"\n",
    "tests.test_build_nn(build_nn)"
   ]
  },
  {
   "cell_type": "markdown",
   "metadata": {},
   "source": [
    "### Batches\n",
    "Implement `get_batches` to create batches of input and targets using `int_text`.  The batches should be a Numpy array with the shape `(number of batches, 2, batch size, sequence length)`. Each batch contains two elements:\n",
    "- The first element is a single batch of **input** with the shape `[batch size, sequence length]`\n",
    "- The second element is a single batch of **targets** with the shape `[batch size, sequence length]`\n",
    "\n",
    "If you can't fill the last batch with enough data, drop the last batch.\n",
    "\n",
    "For example, `get_batches([1, 2, 3, 4, 5, 6, 7, 8, 9, 10, 11, 12, 13, 14, 15, 16, 17, 18, 19, 20], 3, 2)` would return a Numpy array of the following:\n",
    "```\n",
    "[\n",
    "  # First Batch\n",
    "  [\n",
    "    # Batch of Input\n",
    "    [[ 1  2], [ 7  8], [13 14]]\n",
    "    # Batch of targets\n",
    "    [[ 2  3], [ 8  9], [14 15]]\n",
    "  ]\n",
    "\n",
    "  # Second Batch\n",
    "  [\n",
    "    # Batch of Input\n",
    "    [[ 3  4], [ 9 10], [15 16]]\n",
    "    # Batch of targets\n",
    "    [[ 4  5], [10 11], [16 17]]\n",
    "  ]\n",
    "\n",
    "  # Third Batch\n",
    "  [\n",
    "    # Batch of Input\n",
    "    [[ 5  6], [11 12], [17 18]]\n",
    "    # Batch of targets\n",
    "    [[ 6  7], [12 13], [18  1]]\n",
    "  ]\n",
    "]\n",
    "```\n",
    "\n",
    "Notice that the last target value in the last batch is the first input value of the first batch. In this case, `1`. This is a common technique used when creating sequence batches, although it is rather unintuitive."
   ]
  },
  {
   "cell_type": "code",
   "execution_count": 15,
   "metadata": {},
   "outputs": [
    {
     "name": "stdout",
     "output_type": "stream",
     "text": [
      "Tests Passed\n"
     ]
    }
   ],
   "source": [
    "def get_batches(int_text, batch_size, seq_length):\n",
    "    \"\"\"\n",
    "    Return batches of input and target\n",
    "    :param int_text: Text with the words replaced by their ids\n",
    "    :param batch_size: The size of batch\n",
    "    :param seq_length: The length of sequence\n",
    "    :return: Batches as a Numpy array\n",
    "    \"\"\"\n",
    "    # done: Implement Function\n",
    "    # I am assuming int_text will be a list rather than a 1-d array\n",
    "    words_per_batch = batch_size * seq_length \n",
    "    n_batches = len(int_text) // words_per_batch\n",
    "    x = np.array( int_text[:n_batches*words_per_batch] )# inputs\n",
    "    y=np.zeros_like(x, dtype = x.dtype) # targets\n",
    "    y[:-1], y[-1:] = x[1:],x[:1] \n",
    "    \n",
    "    xarr = x.reshape((batch_size, -1))\n",
    "    yarr = y.reshape((batch_size, -1))\n",
    "    batches = np.zeros((n_batches, 2, batch_size, seq_length), dtype=int )\n",
    "    batch_idx = 0\n",
    "   \n",
    "    for n in range(0, xarr.shape[1], seq_length):\n",
    "        input_batch = xarr[:, n:n+seq_length]\n",
    "        target_batch = yarr[:, n:n+seq_length]\n",
    "        this_batch=np.array([input_batch, target_batch])\n",
    "        batches[ batch_idx,:,:,:]=this_batch\n",
    "        batch_idx += 1\n",
    "\n",
    "    return batches\n",
    "\n",
    "\"\"\"\n",
    "DON'T MODIFY ANYTHING IN THIS CELL THAT IS BELOW THIS LINE\n",
    "\"\"\"\n",
    "tests.test_get_batches(get_batches)"
   ]
  },
  {
   "cell_type": "markdown",
   "metadata": {},
   "source": [
    "## Neural Network Training\n",
    "### Hyperparameters\n",
    "Tune the following parameters:\n",
    "\n",
    "- Set `num_epochs` to the number of epochs.\n",
    "- Set `batch_size` to the batch size.\n",
    "- Set `rnn_size` to the size of the RNNs.\n",
    "- Set `embed_dim` to the size of the embedding.\n",
    "- Set `seq_length` to the length of sequence.\n",
    "- Set `learning_rate` to the learning rate.\n",
    "- Set `show_every_n_batches` to the number of batches the neural network should print progress."
   ]
  },
  {
   "cell_type": "code",
   "execution_count": 33,
   "metadata": {},
   "outputs": [],
   "source": [
    "# Number of Epochs\n",
    "num_epochs = 25 #around 50 epochs were enough to get the loss under 1.0 with seq_length of 200. Loss goes down to 0.12 with 100 epochs.\n",
    "# Batch Size\n",
    "batch_size = 16\n",
    "# RNN Size\n",
    "rnn_size = 256\n",
    "# Embedding Dimension Size\n",
    "\n",
    "embed_dim = 300\n",
    "# Sequence Length\n",
    "seq_length = 12 # had 200 at first, but this is an improvement suggested by the reviewer (corresponding to the average sequence length in the training data of 11.5 words)\n",
    "# Learning Rate\n",
    "learning_rate = 0.001\n",
    "# Show stats for every n number of batches\n",
    "show_every_n_batches = 1000\n",
    "\n",
    "\"\"\"\n",
    "DON'T MODIFY ANYTHING IN THIS CELL THAT IS BELOW THIS LINE\n",
    "\"\"\"\n",
    "save_dir = './save'"
   ]
  },
  {
   "cell_type": "markdown",
   "metadata": {},
   "source": [
    "### Build the Graph\n",
    "Build the graph using the neural network you implemented."
   ]
  },
  {
   "cell_type": "code",
   "execution_count": 34,
   "metadata": {},
   "outputs": [],
   "source": [
    "\"\"\"\n",
    "DON'T MODIFY ANYTHING IN THIS CELL\n",
    "\"\"\"\n",
    "from tensorflow.contrib import seq2seq\n",
    "\n",
    "train_graph = tf.Graph()\n",
    "with train_graph.as_default():\n",
    "    vocab_size = len(int_to_vocab)\n",
    "    input_text, targets, lr = get_inputs()\n",
    "    input_data_shape = tf.shape(input_text)\n",
    "    cell, initial_state = get_init_cell(input_data_shape[0], rnn_size)\n",
    "    logits, final_state = build_nn(cell, rnn_size, input_text, vocab_size, embed_dim)\n",
    "\n",
    "    # Probabilities for generating words\n",
    "    probs = tf.nn.softmax(logits, name='probs')\n",
    "\n",
    "    # Loss function\n",
    "    cost = seq2seq.sequence_loss(\n",
    "        logits,\n",
    "        targets,\n",
    "        tf.ones([input_data_shape[0], input_data_shape[1]]))\n",
    "\n",
    "    # Optimizer\n",
    "    optimizer = tf.train.AdamOptimizer(lr)\n",
    "\n",
    "    # Gradient Clipping\n",
    "    gradients = optimizer.compute_gradients(cost)\n",
    "    capped_gradients = [(tf.clip_by_value(grad, -1., 1.), var) for grad, var in gradients if grad is not None]\n",
    "    train_op = optimizer.apply_gradients(capped_gradients)"
   ]
  },
  {
   "cell_type": "markdown",
   "metadata": {},
   "source": [
    "## Train\n",
    "Train the neural network on the preprocessed data.  If you have a hard time getting a good loss, check the [forums](https://discussions.udacity.com/) to see if anyone is having the same problem."
   ]
  },
  {
   "cell_type": "code",
   "execution_count": 35,
   "metadata": {
    "scrolled": true
   },
   "outputs": [
    {
     "name": "stdout",
     "output_type": "stream",
     "text": [
      "Epoch   0 Batch    0/13372   train_loss = 10.922\n",
      "Epoch   0 Batch 1000/13372   train_loss = 5.093\n",
      "Epoch   0 Batch 2000/13372   train_loss = 5.123\n",
      "Epoch   0 Batch 3000/13372   train_loss = 5.306\n",
      "Epoch   0 Batch 4000/13372   train_loss = 4.531\n",
      "Epoch   0 Batch 5000/13372   train_loss = 4.511\n",
      "Epoch   0 Batch 6000/13372   train_loss = 4.176\n",
      "Epoch   0 Batch 7000/13372   train_loss = 5.096\n",
      "Epoch   0 Batch 8000/13372   train_loss = 5.015\n",
      "Epoch   0 Batch 9000/13372   train_loss = 4.582\n",
      "Epoch   0 Batch 10000/13372   train_loss = 4.460\n",
      "Epoch   0 Batch 11000/13372   train_loss = 4.304\n",
      "Epoch   0 Batch 12000/13372   train_loss = 4.470\n",
      "Epoch   0 Batch 13000/13372   train_loss = 4.670\n",
      "Epoch   1 Batch  628/13372   train_loss = 4.382\n",
      "Epoch   1 Batch 1628/13372   train_loss = 4.199\n",
      "Epoch   1 Batch 2628/13372   train_loss = 3.889\n",
      "Epoch   1 Batch 3628/13372   train_loss = 4.878\n",
      "Epoch   1 Batch 4628/13372   train_loss = 4.781\n",
      "Epoch   1 Batch 5628/13372   train_loss = 4.274\n",
      "Epoch   1 Batch 6628/13372   train_loss = 4.667\n",
      "Epoch   1 Batch 7628/13372   train_loss = 4.504\n",
      "Epoch   1 Batch 8628/13372   train_loss = 4.331\n",
      "Epoch   1 Batch 9628/13372   train_loss = 4.341\n",
      "Epoch   1 Batch 10628/13372   train_loss = 4.275\n",
      "Epoch   1 Batch 11628/13372   train_loss = 3.737\n",
      "Epoch   1 Batch 12628/13372   train_loss = 4.572\n",
      "Epoch   2 Batch  256/13372   train_loss = 4.177\n",
      "Epoch   2 Batch 1256/13372   train_loss = 4.233\n",
      "Epoch   2 Batch 2256/13372   train_loss = 4.446\n",
      "Epoch   2 Batch 3256/13372   train_loss = 4.460\n",
      "Epoch   2 Batch 4256/13372   train_loss = 4.309\n",
      "Epoch   2 Batch 5256/13372   train_loss = 4.711\n",
      "Epoch   2 Batch 6256/13372   train_loss = 3.388\n",
      "Epoch   2 Batch 7256/13372   train_loss = 4.551\n",
      "Epoch   2 Batch 8256/13372   train_loss = 4.939\n",
      "Epoch   2 Batch 9256/13372   train_loss = 4.091\n",
      "Epoch   2 Batch 10256/13372   train_loss = 3.988\n",
      "Epoch   2 Batch 11256/13372   train_loss = 4.391\n",
      "Epoch   2 Batch 12256/13372   train_loss = 4.687\n",
      "Epoch   2 Batch 13256/13372   train_loss = 4.032\n",
      "Epoch   3 Batch  884/13372   train_loss = 4.396\n",
      "Epoch   3 Batch 1884/13372   train_loss = 4.017\n",
      "Epoch   3 Batch 2884/13372   train_loss = 4.410\n",
      "Epoch   3 Batch 3884/13372   train_loss = 3.787\n",
      "Epoch   3 Batch 4884/13372   train_loss = 3.339\n",
      "Epoch   3 Batch 5884/13372   train_loss = 4.691\n",
      "Epoch   3 Batch 6884/13372   train_loss = 4.021\n",
      "Epoch   3 Batch 7884/13372   train_loss = 3.996\n",
      "Epoch   3 Batch 8884/13372   train_loss = 4.009\n",
      "Epoch   3 Batch 9884/13372   train_loss = 4.401\n",
      "Epoch   3 Batch 10884/13372   train_loss = 3.818\n",
      "Epoch   3 Batch 11884/13372   train_loss = 4.467\n",
      "Epoch   3 Batch 12884/13372   train_loss = 3.800\n",
      "Epoch   4 Batch  512/13372   train_loss = 3.801\n",
      "Epoch   4 Batch 1512/13372   train_loss = 3.922\n",
      "Epoch   4 Batch 2512/13372   train_loss = 4.039\n",
      "Epoch   4 Batch 3512/13372   train_loss = 3.818\n",
      "Epoch   4 Batch 4512/13372   train_loss = 4.015\n",
      "Epoch   4 Batch 5512/13372   train_loss = 4.117\n",
      "Epoch   4 Batch 6512/13372   train_loss = 3.852\n",
      "Epoch   4 Batch 7512/13372   train_loss = 4.000\n",
      "Epoch   4 Batch 8512/13372   train_loss = 3.798\n",
      "Epoch   4 Batch 9512/13372   train_loss = 4.067\n",
      "Epoch   4 Batch 10512/13372   train_loss = 3.697\n",
      "Epoch   4 Batch 11512/13372   train_loss = 4.290\n",
      "Epoch   4 Batch 12512/13372   train_loss = 3.906\n",
      "Epoch   5 Batch  140/13372   train_loss = 3.376\n",
      "Epoch   5 Batch 1140/13372   train_loss = 3.670\n",
      "Epoch   5 Batch 2140/13372   train_loss = 4.125\n",
      "Epoch   5 Batch 3140/13372   train_loss = 4.270\n",
      "Epoch   5 Batch 4140/13372   train_loss = 3.955\n",
      "Epoch   5 Batch 5140/13372   train_loss = 4.131\n",
      "Epoch   5 Batch 6140/13372   train_loss = 3.946\n",
      "Epoch   5 Batch 7140/13372   train_loss = 3.778\n",
      "Epoch   5 Batch 8140/13372   train_loss = 3.722\n",
      "Epoch   5 Batch 9140/13372   train_loss = 3.676\n",
      "Epoch   5 Batch 10140/13372   train_loss = 3.674\n",
      "Epoch   5 Batch 11140/13372   train_loss = 4.030\n",
      "Epoch   5 Batch 12140/13372   train_loss = 4.386\n",
      "Epoch   5 Batch 13140/13372   train_loss = 4.142\n",
      "Epoch   6 Batch  768/13372   train_loss = 3.963\n",
      "Epoch   6 Batch 1768/13372   train_loss = 4.138\n",
      "Epoch   6 Batch 2768/13372   train_loss = 3.869\n",
      "Epoch   6 Batch 3768/13372   train_loss = 3.965\n",
      "Epoch   6 Batch 4768/13372   train_loss = 3.604\n",
      "Epoch   6 Batch 5768/13372   train_loss = 3.732\n",
      "Epoch   6 Batch 6768/13372   train_loss = 4.051\n",
      "Epoch   6 Batch 7768/13372   train_loss = 4.196\n",
      "Epoch   6 Batch 8768/13372   train_loss = 3.443\n",
      "Epoch   6 Batch 9768/13372   train_loss = 3.950\n",
      "Epoch   6 Batch 10768/13372   train_loss = 4.057\n",
      "Epoch   6 Batch 11768/13372   train_loss = 4.177\n",
      "Epoch   6 Batch 12768/13372   train_loss = 3.711\n",
      "Epoch   7 Batch  396/13372   train_loss = 3.942\n",
      "Epoch   7 Batch 1396/13372   train_loss = 4.155\n",
      "Epoch   7 Batch 2396/13372   train_loss = 4.272\n",
      "Epoch   7 Batch 3396/13372   train_loss = 4.109\n",
      "Epoch   7 Batch 4396/13372   train_loss = 4.322\n",
      "Epoch   7 Batch 5396/13372   train_loss = 3.562\n",
      "Epoch   7 Batch 6396/13372   train_loss = 3.752\n",
      "Epoch   7 Batch 7396/13372   train_loss = 3.778\n",
      "Epoch   7 Batch 8396/13372   train_loss = 4.123\n",
      "Epoch   7 Batch 9396/13372   train_loss = 3.656\n",
      "Epoch   7 Batch 10396/13372   train_loss = 4.227\n",
      "Epoch   7 Batch 11396/13372   train_loss = 3.562\n",
      "Epoch   7 Batch 12396/13372   train_loss = 3.421\n",
      "Epoch   8 Batch   24/13372   train_loss = 3.538\n",
      "Epoch   8 Batch 1024/13372   train_loss = 3.439\n",
      "Epoch   8 Batch 2024/13372   train_loss = 4.115\n",
      "Epoch   8 Batch 3024/13372   train_loss = 3.446\n",
      "Epoch   8 Batch 4024/13372   train_loss = 3.954\n",
      "Epoch   8 Batch 5024/13372   train_loss = 3.736\n",
      "Epoch   8 Batch 6024/13372   train_loss = 3.993\n",
      "Epoch   8 Batch 7024/13372   train_loss = 3.400\n",
      "Epoch   8 Batch 8024/13372   train_loss = 3.894\n",
      "Epoch   8 Batch 9024/13372   train_loss = 3.799\n",
      "Epoch   8 Batch 10024/13372   train_loss = 3.757\n",
      "Epoch   8 Batch 11024/13372   train_loss = 4.027\n",
      "Epoch   8 Batch 12024/13372   train_loss = 4.091\n",
      "Epoch   8 Batch 13024/13372   train_loss = 3.919\n",
      "Epoch   9 Batch  652/13372   train_loss = 4.094\n",
      "Epoch   9 Batch 1652/13372   train_loss = 3.251\n",
      "Epoch   9 Batch 2652/13372   train_loss = 3.644\n",
      "Epoch   9 Batch 3652/13372   train_loss = 3.776\n",
      "Epoch   9 Batch 4652/13372   train_loss = 3.681\n",
      "Epoch   9 Batch 5652/13372   train_loss = 3.535\n",
      "Epoch   9 Batch 6652/13372   train_loss = 3.711\n",
      "Epoch   9 Batch 7652/13372   train_loss = 4.019\n",
      "Epoch   9 Batch 8652/13372   train_loss = 3.642\n",
      "Epoch   9 Batch 9652/13372   train_loss = 4.427\n",
      "Epoch   9 Batch 10652/13372   train_loss = 4.006\n",
      "Epoch   9 Batch 11652/13372   train_loss = 3.567\n",
      "Epoch   9 Batch 12652/13372   train_loss = 4.106\n",
      "Epoch  10 Batch  280/13372   train_loss = 3.746\n",
      "Epoch  10 Batch 1280/13372   train_loss = 3.453\n",
      "Epoch  10 Batch 2280/13372   train_loss = 3.834\n",
      "Epoch  10 Batch 3280/13372   train_loss = 3.491\n",
      "Epoch  10 Batch 4280/13372   train_loss = 4.100\n",
      "Epoch  10 Batch 5280/13372   train_loss = 3.800\n",
      "Epoch  10 Batch 6280/13372   train_loss = 3.933\n",
      "Epoch  10 Batch 7280/13372   train_loss = 3.733\n",
      "Epoch  10 Batch 8280/13372   train_loss = 3.663\n",
      "Epoch  10 Batch 9280/13372   train_loss = 3.611\n",
      "Epoch  10 Batch 10280/13372   train_loss = 3.768\n",
      "Epoch  10 Batch 11280/13372   train_loss = 3.616\n",
      "Epoch  10 Batch 12280/13372   train_loss = 3.599\n",
      "Epoch  10 Batch 13280/13372   train_loss = 3.835\n",
      "Epoch  11 Batch  908/13372   train_loss = 3.934\n",
      "Epoch  11 Batch 1908/13372   train_loss = 3.532\n",
      "Epoch  11 Batch 2908/13372   train_loss = 3.637\n",
      "Epoch  11 Batch 3908/13372   train_loss = 3.794\n",
      "Epoch  11 Batch 4908/13372   train_loss = 3.715\n",
      "Epoch  11 Batch 5908/13372   train_loss = 3.646\n",
      "Epoch  11 Batch 6908/13372   train_loss = 4.437\n",
      "Epoch  11 Batch 7908/13372   train_loss = 3.335\n",
      "Epoch  11 Batch 8908/13372   train_loss = 3.984\n",
      "Epoch  11 Batch 9908/13372   train_loss = 3.569\n",
      "Epoch  11 Batch 10908/13372   train_loss = 3.841\n",
      "Epoch  11 Batch 11908/13372   train_loss = 3.467\n",
      "Epoch  11 Batch 12908/13372   train_loss = 3.700\n",
      "Epoch  12 Batch  536/13372   train_loss = 4.041\n",
      "Epoch  12 Batch 1536/13372   train_loss = 3.702\n",
      "Epoch  12 Batch 2536/13372   train_loss = 3.639\n",
      "Epoch  12 Batch 3536/13372   train_loss = 3.518\n",
      "Epoch  12 Batch 4536/13372   train_loss = 3.926\n",
      "Epoch  12 Batch 5536/13372   train_loss = 3.340\n",
      "Epoch  12 Batch 6536/13372   train_loss = 4.109\n",
      "Epoch  12 Batch 7536/13372   train_loss = 3.253\n",
      "Epoch  12 Batch 8536/13372   train_loss = 3.984\n"
     ]
    },
    {
     "name": "stdout",
     "output_type": "stream",
     "text": [
      "Epoch  12 Batch 9536/13372   train_loss = 4.148\n",
      "Epoch  12 Batch 10536/13372   train_loss = 3.301\n",
      "Epoch  12 Batch 11536/13372   train_loss = 3.672\n",
      "Epoch  12 Batch 12536/13372   train_loss = 3.865\n",
      "Epoch  13 Batch  164/13372   train_loss = 3.763\n",
      "Epoch  13 Batch 1164/13372   train_loss = 3.707\n",
      "Epoch  13 Batch 2164/13372   train_loss = 3.682\n",
      "Epoch  13 Batch 3164/13372   train_loss = 3.980\n",
      "Epoch  13 Batch 4164/13372   train_loss = 3.497\n",
      "Epoch  13 Batch 5164/13372   train_loss = 3.606\n",
      "Epoch  13 Batch 6164/13372   train_loss = 4.056\n",
      "Epoch  13 Batch 7164/13372   train_loss = 3.890\n",
      "Epoch  13 Batch 8164/13372   train_loss = 3.478\n",
      "Epoch  13 Batch 9164/13372   train_loss = 3.671\n",
      "Epoch  13 Batch 10164/13372   train_loss = 3.624\n",
      "Epoch  13 Batch 11164/13372   train_loss = 4.274\n",
      "Epoch  13 Batch 12164/13372   train_loss = 3.496\n",
      "Epoch  13 Batch 13164/13372   train_loss = 3.964\n",
      "Epoch  14 Batch  792/13372   train_loss = 4.221\n",
      "Epoch  14 Batch 1792/13372   train_loss = 3.827\n",
      "Epoch  14 Batch 2792/13372   train_loss = 3.334\n",
      "Epoch  14 Batch 3792/13372   train_loss = 3.092\n",
      "Epoch  14 Batch 4792/13372   train_loss = 4.009\n",
      "Epoch  14 Batch 5792/13372   train_loss = 3.880\n",
      "Epoch  14 Batch 6792/13372   train_loss = 3.268\n",
      "Epoch  14 Batch 7792/13372   train_loss = 3.736\n",
      "Epoch  14 Batch 8792/13372   train_loss = 3.439\n",
      "Epoch  14 Batch 9792/13372   train_loss = 3.779\n",
      "Epoch  14 Batch 10792/13372   train_loss = 3.943\n",
      "Epoch  14 Batch 11792/13372   train_loss = 3.917\n",
      "Epoch  14 Batch 12792/13372   train_loss = 3.641\n",
      "Epoch  15 Batch  420/13372   train_loss = 3.854\n",
      "Epoch  15 Batch 1420/13372   train_loss = 3.944\n",
      "Epoch  15 Batch 2420/13372   train_loss = 3.827\n",
      "Epoch  15 Batch 3420/13372   train_loss = 4.102\n",
      "Epoch  15 Batch 4420/13372   train_loss = 3.477\n",
      "Epoch  15 Batch 5420/13372   train_loss = 3.115\n",
      "Epoch  15 Batch 6420/13372   train_loss = 3.199\n",
      "Epoch  15 Batch 7420/13372   train_loss = 3.868\n",
      "Epoch  15 Batch 8420/13372   train_loss = 3.652\n",
      "Epoch  15 Batch 9420/13372   train_loss = 3.890\n",
      "Epoch  15 Batch 10420/13372   train_loss = 3.395\n",
      "Epoch  15 Batch 11420/13372   train_loss = 3.649\n",
      "Epoch  15 Batch 12420/13372   train_loss = 4.198\n",
      "Epoch  16 Batch   48/13372   train_loss = 3.512\n",
      "Epoch  16 Batch 1048/13372   train_loss = 3.917\n",
      "Epoch  16 Batch 2048/13372   train_loss = 3.838\n",
      "Epoch  16 Batch 3048/13372   train_loss = 3.141\n",
      "Epoch  16 Batch 4048/13372   train_loss = 3.870\n",
      "Epoch  16 Batch 5048/13372   train_loss = 3.733\n",
      "Epoch  16 Batch 6048/13372   train_loss = 3.541\n",
      "Epoch  16 Batch 7048/13372   train_loss = 3.774\n",
      "Epoch  16 Batch 8048/13372   train_loss = 3.512\n",
      "Epoch  16 Batch 9048/13372   train_loss = 3.838\n",
      "Epoch  16 Batch 10048/13372   train_loss = 4.169\n",
      "Epoch  16 Batch 11048/13372   train_loss = 3.517\n",
      "Epoch  16 Batch 12048/13372   train_loss = 3.234\n",
      "Epoch  16 Batch 13048/13372   train_loss = 3.771\n",
      "Epoch  17 Batch  676/13372   train_loss = 3.881\n",
      "Epoch  17 Batch 1676/13372   train_loss = 3.645\n",
      "Epoch  17 Batch 2676/13372   train_loss = 3.717\n",
      "Epoch  17 Batch 3676/13372   train_loss = 4.057\n",
      "Epoch  17 Batch 4676/13372   train_loss = 3.746\n",
      "Epoch  17 Batch 5676/13372   train_loss = 3.665\n",
      "Epoch  17 Batch 6676/13372   train_loss = 3.610\n",
      "Epoch  17 Batch 7676/13372   train_loss = 3.746\n",
      "Epoch  17 Batch 8676/13372   train_loss = 3.927\n",
      "Epoch  17 Batch 9676/13372   train_loss = 3.727\n",
      "Epoch  17 Batch 10676/13372   train_loss = 3.627\n",
      "Epoch  17 Batch 11676/13372   train_loss = 3.967\n",
      "Epoch  17 Batch 12676/13372   train_loss = 3.480\n",
      "Epoch  18 Batch  304/13372   train_loss = 3.692\n",
      "Epoch  18 Batch 1304/13372   train_loss = 3.116\n",
      "Epoch  18 Batch 2304/13372   train_loss = 3.562\n",
      "Epoch  18 Batch 3304/13372   train_loss = 3.370\n",
      "Epoch  18 Batch 4304/13372   train_loss = 4.305\n",
      "Epoch  18 Batch 5304/13372   train_loss = 3.091\n",
      "Epoch  18 Batch 6304/13372   train_loss = 3.186\n",
      "Epoch  18 Batch 7304/13372   train_loss = 3.413\n",
      "Epoch  18 Batch 8304/13372   train_loss = 3.695\n",
      "Epoch  18 Batch 9304/13372   train_loss = 3.922\n",
      "Epoch  18 Batch 10304/13372   train_loss = 3.608\n",
      "Epoch  18 Batch 11304/13372   train_loss = 3.388\n",
      "Epoch  18 Batch 12304/13372   train_loss = 3.895\n",
      "Epoch  18 Batch 13304/13372   train_loss = 3.688\n",
      "Epoch  19 Batch  932/13372   train_loss = 3.471\n",
      "Epoch  19 Batch 1932/13372   train_loss = 3.778\n",
      "Epoch  19 Batch 2932/13372   train_loss = 3.677\n",
      "Epoch  19 Batch 3932/13372   train_loss = 3.633\n",
      "Epoch  19 Batch 4932/13372   train_loss = 3.717\n",
      "Epoch  19 Batch 5932/13372   train_loss = 3.674\n",
      "Epoch  19 Batch 6932/13372   train_loss = 3.892\n",
      "Epoch  19 Batch 7932/13372   train_loss = 3.705\n",
      "Epoch  19 Batch 8932/13372   train_loss = 3.413\n",
      "Epoch  19 Batch 9932/13372   train_loss = 3.762\n",
      "Epoch  19 Batch 10932/13372   train_loss = 3.805\n",
      "Epoch  19 Batch 11932/13372   train_loss = 3.772\n",
      "Epoch  19 Batch 12932/13372   train_loss = 3.324\n",
      "Epoch  20 Batch  560/13372   train_loss = 3.290\n",
      "Epoch  20 Batch 1560/13372   train_loss = 3.592\n",
      "Epoch  20 Batch 2560/13372   train_loss = 3.825\n",
      "Epoch  20 Batch 3560/13372   train_loss = 3.817\n",
      "Epoch  20 Batch 4560/13372   train_loss = 3.555\n",
      "Epoch  20 Batch 5560/13372   train_loss = 3.229\n",
      "Epoch  20 Batch 6560/13372   train_loss = 3.435\n",
      "Epoch  20 Batch 7560/13372   train_loss = 3.679\n",
      "Epoch  20 Batch 8560/13372   train_loss = 3.703\n",
      "Epoch  20 Batch 9560/13372   train_loss = 3.758\n",
      "Epoch  20 Batch 10560/13372   train_loss = 3.626\n",
      "Epoch  20 Batch 11560/13372   train_loss = 3.582\n",
      "Epoch  20 Batch 12560/13372   train_loss = 3.592\n",
      "Epoch  21 Batch  188/13372   train_loss = 3.576\n",
      "Epoch  21 Batch 1188/13372   train_loss = 3.363\n",
      "Epoch  21 Batch 2188/13372   train_loss = 3.825\n",
      "Epoch  21 Batch 3188/13372   train_loss = 4.171\n",
      "Epoch  21 Batch 4188/13372   train_loss = 3.659\n",
      "Epoch  21 Batch 5188/13372   train_loss = 4.087\n",
      "Epoch  21 Batch 6188/13372   train_loss = 3.446\n",
      "Epoch  21 Batch 7188/13372   train_loss = 3.830\n",
      "Epoch  21 Batch 8188/13372   train_loss = 3.668\n",
      "Epoch  21 Batch 9188/13372   train_loss = 3.577\n",
      "Epoch  21 Batch 10188/13372   train_loss = 3.962\n",
      "Epoch  21 Batch 11188/13372   train_loss = 3.512\n",
      "Epoch  21 Batch 12188/13372   train_loss = 3.327\n",
      "Epoch  21 Batch 13188/13372   train_loss = 3.295\n",
      "Epoch  22 Batch  816/13372   train_loss = 3.497\n",
      "Epoch  22 Batch 1816/13372   train_loss = 3.899\n",
      "Epoch  22 Batch 2816/13372   train_loss = 3.019\n",
      "Epoch  22 Batch 3816/13372   train_loss = 4.333\n",
      "Epoch  22 Batch 4816/13372   train_loss = 3.540\n",
      "Epoch  22 Batch 5816/13372   train_loss = 3.489\n",
      "Epoch  22 Batch 6816/13372   train_loss = 3.798\n",
      "Epoch  22 Batch 7816/13372   train_loss = 3.838\n",
      "Epoch  22 Batch 8816/13372   train_loss = 3.641\n",
      "Epoch  22 Batch 9816/13372   train_loss = 3.612\n",
      "Epoch  22 Batch 10816/13372   train_loss = 3.481\n",
      "Epoch  22 Batch 11816/13372   train_loss = 3.903\n",
      "Epoch  22 Batch 12816/13372   train_loss = 3.271\n",
      "Epoch  23 Batch  444/13372   train_loss = 3.861\n",
      "Epoch  23 Batch 1444/13372   train_loss = 3.538\n",
      "Epoch  23 Batch 2444/13372   train_loss = 3.969\n",
      "Epoch  23 Batch 3444/13372   train_loss = 2.912\n",
      "Epoch  23 Batch 4444/13372   train_loss = 3.675\n",
      "Epoch  23 Batch 5444/13372   train_loss = 3.560\n",
      "Epoch  23 Batch 6444/13372   train_loss = 3.894\n",
      "Epoch  23 Batch 7444/13372   train_loss = 3.660\n",
      "Epoch  23 Batch 8444/13372   train_loss = 3.457\n",
      "Epoch  23 Batch 9444/13372   train_loss = 3.710\n",
      "Epoch  23 Batch 10444/13372   train_loss = 3.930\n",
      "Epoch  23 Batch 11444/13372   train_loss = 3.869\n",
      "Epoch  23 Batch 12444/13372   train_loss = 3.600\n",
      "Epoch  24 Batch   72/13372   train_loss = 3.114\n",
      "Epoch  24 Batch 1072/13372   train_loss = 3.338\n",
      "Epoch  24 Batch 2072/13372   train_loss = 2.995\n",
      "Epoch  24 Batch 3072/13372   train_loss = 3.611\n",
      "Epoch  24 Batch 4072/13372   train_loss = 3.489\n",
      "Epoch  24 Batch 5072/13372   train_loss = 3.239\n",
      "Epoch  24 Batch 6072/13372   train_loss = 3.527\n",
      "Epoch  24 Batch 7072/13372   train_loss = 3.411\n",
      "Epoch  24 Batch 8072/13372   train_loss = 3.374\n",
      "Epoch  24 Batch 9072/13372   train_loss = 3.778\n",
      "Epoch  24 Batch 10072/13372   train_loss = 4.009\n",
      "Epoch  24 Batch 11072/13372   train_loss = 3.432\n",
      "Epoch  24 Batch 12072/13372   train_loss = 4.230\n",
      "Epoch  24 Batch 13072/13372   train_loss = 3.231\n",
      "Model Trained and Saved\n"
     ]
    }
   ],
   "source": [
    "\"\"\"\n",
    "DON'T MODIFY ANYTHING IN THIS CELL\n",
    "\"\"\"\n",
    "batches = get_batches(int_text, batch_size, seq_length)\n",
    "\n",
    "with tf.Session(graph=train_graph) as sess:\n",
    "    sess.run(tf.global_variables_initializer())\n",
    "\n",
    "    for epoch_i in range(num_epochs):\n",
    "        state = sess.run(initial_state, {input_text: batches[0][0]})\n",
    "\n",
    "        for batch_i, (x, y) in enumerate(batches):\n",
    "            feed = {\n",
    "                input_text: x,\n",
    "                targets: y,\n",
    "                initial_state: state,\n",
    "                lr: learning_rate}\n",
    "            train_loss, state, _ = sess.run([cost, final_state, train_op], feed)\n",
    "\n",
    "            # Show every <show_every_n_batches> batches\n",
    "            if (epoch_i * len(batches) + batch_i) % show_every_n_batches == 0:\n",
    "                print('Epoch {:>3} Batch {:>4}/{}   train_loss = {:.3f}'.format(\n",
    "                    epoch_i,\n",
    "                    batch_i,\n",
    "                    len(batches),\n",
    "                    train_loss))\n",
    "\n",
    "    # Save Model\n",
    "    saver = tf.train.Saver()\n",
    "    saver.save(sess, save_dir)\n",
    "    print('Model Trained and Saved')"
   ]
  },
  {
   "cell_type": "markdown",
   "metadata": {},
   "source": [
    "## Save Parameters\n",
    "Save `seq_length` and `save_dir` for generating a new TV script."
   ]
  },
  {
   "cell_type": "code",
   "execution_count": 36,
   "metadata": {},
   "outputs": [],
   "source": [
    "\"\"\"\n",
    "DON'T MODIFY ANYTHING IN THIS CELL\n",
    "\"\"\"\n",
    "# Save parameters for checkpoint\n",
    "helper.save_params((seq_length, save_dir))"
   ]
  },
  {
   "cell_type": "markdown",
   "metadata": {},
   "source": [
    "# Checkpoint"
   ]
  },
  {
   "cell_type": "code",
   "execution_count": 37,
   "metadata": {},
   "outputs": [],
   "source": [
    "\"\"\"\n",
    "DON'T MODIFY ANYTHING IN THIS CELL\n",
    "\"\"\"\n",
    "import tensorflow as tf\n",
    "import numpy as np\n",
    "import helper\n",
    "import problem_unittests as tests\n",
    "\n",
    "_, vocab_to_int, int_to_vocab, token_dict = helper.load_preprocess()\n",
    "seq_length, load_dir = helper.load_params()"
   ]
  },
  {
   "cell_type": "markdown",
   "metadata": {},
   "source": [
    "## Implement Generate Functions\n",
    "### Get Tensors\n",
    "Get tensors from `loaded_graph` using the function [`get_tensor_by_name()`](https://www.tensorflow.org/api_docs/python/tf/Graph#get_tensor_by_name).  Get the tensors using the following names:\n",
    "- \"input:0\"\n",
    "- \"initial_state:0\"\n",
    "- \"final_state:0\"\n",
    "- \"probs:0\"\n",
    "\n",
    "Return the tensors in the following tuple `(InputTensor, InitialStateTensor, FinalStateTensor, ProbsTensor)` "
   ]
  },
  {
   "cell_type": "code",
   "execution_count": 38,
   "metadata": {},
   "outputs": [
    {
     "name": "stdout",
     "output_type": "stream",
     "text": [
      "Tests Passed\n"
     ]
    }
   ],
   "source": [
    "def get_tensors(loaded_graph):\n",
    "    \"\"\"\n",
    "    Get input, initial state, final state, and probabilities tensor from <loaded_graph>\n",
    "    :param loaded_graph: TensorFlow graph loaded from file\n",
    "    :return: Tuple (InputTensor, InitialStateTensor, FinalStateTensor, ProbsTensor)\n",
    "    \"\"\"\n",
    "    # done: Implement Function\n",
    "    InputTensor = loaded_graph.get_tensor_by_name(\"input:0\")\n",
    "    InitialStateTensor = loaded_graph.get_tensor_by_name(\"initial_state:0\")\n",
    "    FinalStateTensor = loaded_graph.get_tensor_by_name(\"final_state:0\")\n",
    "    ProbsTensor = loaded_graph.get_tensor_by_name(\"probs:0\")\n",
    "    return (InputTensor, InitialStateTensor, FinalStateTensor, ProbsTensor)\n",
    "\n",
    "\n",
    "\"\"\"\n",
    "DON'T MODIFY ANYTHING IN THIS CELL THAT IS BELOW THIS LINE\n",
    "\"\"\"\n",
    "tests.test_get_tensors(get_tensors)"
   ]
  },
  {
   "cell_type": "markdown",
   "metadata": {},
   "source": [
    "### Choose Word\n",
    "Implement the `pick_word()` function to select the next word using `probabilities`."
   ]
  },
  {
   "cell_type": "code",
   "execution_count": 39,
   "metadata": {},
   "outputs": [
    {
     "name": "stdout",
     "output_type": "stream",
     "text": [
      "Tests Passed\n"
     ]
    }
   ],
   "source": [
    "def pick_word(probabilities, int_to_vocab):\n",
    "    \"\"\"\n",
    "    Pick the next word in the generated text\n",
    "    :param probabilities: Probabilites of the next word\n",
    "    :param int_to_vocab: Dictionary of word ids as the keys and words as the values\n",
    "    :return: String of the predicted word\n",
    "    \"\"\"\n",
    "    # done: Implement Function\n",
    "    # gotamist: it would be less noisy to choose among words with the top 5 probabilities.\n",
    "    # not sure there is an ordering in the dictionary.  So then, how to make sure probs correspond to the word?\n",
    "    # I'm not sure of this even though the test is passed\n",
    "    p = probabilities / np.sum(probabilities)\n",
    "    idx=np.random.choice(list(int_to_vocab.keys()), p=p)\n",
    "    return int_to_vocab[idx]\n",
    "\n",
    "\n",
    "\"\"\"\n",
    "DON'T MODIFY ANYTHING IN THIS CELL THAT IS BELOW THIS LINE\n",
    "\"\"\"\n",
    "tests.test_pick_word(pick_word)"
   ]
  },
  {
   "cell_type": "code",
   "execution_count": 40,
   "metadata": {},
   "outputs": [],
   "source": [
    "def pick_top_n(preds, vocab_size, top_n=5):\n",
    "    p = np.squeeze(preds)\n",
    "    p[np.argsort(p)[:-top_n]] = 0\n",
    "    p = p / np.sum(p)\n",
    "    c = np.random.choice(vocab_size, 1, p=p)[0]\n",
    "    return c"
   ]
  },
  {
   "cell_type": "markdown",
   "metadata": {},
   "source": [
    "## Generate TV Script\n",
    "This will generate the TV script for you.  Set `gen_length` to the length of TV script you want to generate."
   ]
  },
  {
   "cell_type": "code",
   "execution_count": 41,
   "metadata": {},
   "outputs": [
    {
     "name": "stdout",
     "output_type": "stream",
     "text": [
      "INFO:tensorflow:Restoring parameters from ./save\n",
      "lisa simpson: trust us, i went in and the guts home is to proud of all.\n",
      "host:(chuckles) hey boys, i'm a winner on this.(starting tear)\n",
      "homer simpson:(worried grunt)\n",
      "homer simpson: how did you see that?\n",
      "lenny leonard: oh well, now, there's another drink way to let me in, you don't know anything.\n",
      "homer simpson: i'll save page to the life of james madison. which one of us do are you ominous that?\n",
      "adult lisa: it hides it for mad like that.\n",
      "(courtroom: int. courtroom - continuous)\n",
      "that time we have a week over.\n",
      "adult lisa: well dad, that's right.\n",
      "lisa simpson:(sobs)(singing) take your rap look / hysterical) mrs. little heck, see? me and i'm going back to sleep.\n",
      "bart simpson: sings changing our vinegar?\n",
      "bart simpson: hey you're pity!\n",
      "marge simpson:(startled yell) continuous)\n",
      "homer simpson: um...\n",
      "marge simpson: i don't know if it died again.\n",
      "little boy:(annoyed) faster?\n",
      "bergstrom: well, they know.\n",
      "selma bouvier: you have a disease.\n",
      "homer simpson:(busboy chipper) take me your way licked with my butt!\n",
      "homer simpson: aye carumba!!\n",
      "(mildly chuckle to designer invite laughter)\n",
      "homer simpson:(booming) weird?\n",
      "girls the let(sputtering) decorate her two.\n",
      "(kwik-e-mart: int. kwik-e-mart - afternoon)\n",
      "patty bouvier: let's roll!\n",
      "james brady: you lose our issue.\n",
      "judge snyder: dr. prime highway owes a class or serve tough.\n",
      "bart simpson: hey lis, dad, i'm going to need... didn't you get these go home?\n",
      "mona simpson: oh, what part of the thought of ready so, but you're on inconsiderate.\n",
      "judge snyder: by short his lunches are paying for bumpy belly to someone right now.\n",
      "woman: now that's a part where you was ivy. but i've made that great cool work tonight.\n",
      "(pavilion: int. clinic - continuous)\n",
      "c. montgomery burns: so a short pardner. but i see the whole times of these others, i'd need to go back immediately.\n",
      "adult lisa: i want to believe this that.\n",
      "(kirk van houten: sing\" sweeet\"?\n",
      "bart jr.\".\n",
      "(krusty the show of us is entitled this song.\n",
      "marge simpson:(flirty)(shocked) hey, aren't that?\n",
      "marge simpson: you could be a robotics. i suppose you can send me out to bed\n",
      "it all right. that's not fun. thank you, very not a man!\n",
      "homer puppet: broke is an marriage of religious mail.(bringing her in book) yeah, but you're patches up here.\n",
      "lisa simpson:(mimicking) mr. sparkle carrot of yours!\n",
      "marge simpson: um, but we came here for some bad news. i've could have it?\n",
      "lisa simpson: maybe it'll be the big question, but you marge aren't beautiful like i owe what it's up to be.\n",
      "seymour skinner:(eagerly) few a search\" a the m. a.!\n",
      "singing singers: kill yayyy!\n",
      "homer simpson: not gone!\n",
      "homer simpson: here i'm rich! / twenty-five dollars! / won the terror / this has been a buncha gary just one of you county /(dramatic isn't the benefit) i have no match for two,(perking up angrily) nervous squirrel stink!(loud sigh) left me out there burger. and left a tombstone between club engines)\n",
      "crowd:(charmed son)\n",
      "c. montgomery burns:\n",
      "c. montgomery burns: and the road arrived after soon to the square offer, a pack a on why she's trying to consume your father as the poster.\n",
      "adult lisa:(unimpressed) this is your sci-fi!.(animation)\n",
      "rev. timothy lovejoy:(squeaky teenage voice) that actually wouldn't approve of their duff food is raising--\n",
      "herman hermann: next.\n",
      "young(chuckles) that's it. i'm gonna show you something, no!\n",
      "crowd:(amid interested noises)\n",
      "dante calabresi: that was the babysitter. we've finished the holy spirit of gettin' off!\n",
      "homer simpson:(anguished moan) skin away!\n",
      "teenage bart: i'm late!\n",
      "(backstage: int. ballroom - later that night)\n",
      "master of the quiet day. just relax.\n",
      "marge simpson: it's about who'd pay so i really involve him that's it that'll be a life inspection and time to date.\n",
      "mayor joe quimby: you know, the rubbin' is all people are the law, it's it, what a time. how much?\n",
      "adult lisa: ohh, and this one's pork.\n",
      "bart simpson:... and another very in.\n",
      "girls:(screaming as excited) quit me, bigger pants. / this would've had women's rights, to get dressed.\n",
      "produce i am. you must opener willie. i'll be back a few agent.\n",
      "fbi agent #1:(impressed) i cracked my cigarettes.\n",
      "lisa simpson: no, not in the sky!\n",
      "lisa simpson:(upset sound)\n",
      "bart\n"
     ]
    }
   ],
   "source": [
    "gen_length = 1000\n",
    "# homer_simpson, moe_szyslak, or Barney_Gumble\n",
    "# prime_word = 'moe_szyslak'\n",
    "prime_word = 'lisa'\n",
    "\n",
    "\"\"\"\n",
    "DON'T MODIFY ANYTHING IN THIS CELL THAT IS BELOW THIS LINE\n",
    "\"\"\"\n",
    "loaded_graph = tf.Graph()\n",
    "with tf.Session(graph=loaded_graph) as sess:\n",
    "    # Load saved model\n",
    "    loader = tf.train.import_meta_graph(load_dir + '.meta')\n",
    "    loader.restore(sess, load_dir)\n",
    "\n",
    "    # Get Tensors from loaded model\n",
    "    input_text, initial_state, final_state, probs = get_tensors(loaded_graph)\n",
    "\n",
    "    # Sentences generation setup\n",
    "#     gen_sentences = [prime_word + ':']\n",
    "    gen_sentences = [prime_word]\n",
    "    \n",
    "    prev_state = sess.run(initial_state, {input_text: np.array([[1]])})\n",
    "\n",
    "    # Generate sentences\n",
    "    for n in range(gen_length):\n",
    "        # Dynamic Input\n",
    "        dyn_input = [[vocab_to_int[word] for word in gen_sentences[-seq_length:]]]\n",
    "        dyn_seq_length = len(dyn_input[0])\n",
    "\n",
    "        # Get Prediction\n",
    "        probabilities, prev_state = sess.run(\n",
    "            [probs, final_state],\n",
    "            {input_text: dyn_input, initial_state: prev_state})\n",
    "        \n",
    "        pred_word = pick_word(probabilities[0][dyn_seq_length-1], int_to_vocab)\n",
    "\n",
    "        gen_sentences.append(pred_word)\n",
    "    \n",
    "    # Remove tokens\n",
    "    tv_script = ' '.join(gen_sentences)\n",
    "    for key, token in token_dict.items():\n",
    "        ending = ' ' if key in ['\\n', '(', '\"'] else ''\n",
    "        tv_script = tv_script.replace(' ' + token.lower(), key)\n",
    "    tv_script = tv_script.replace('\\n ', '\\n')\n",
    "    tv_script = tv_script.replace('( ', '(')\n",
    "        \n",
    "    print(tv_script)"
   ]
  },
  {
   "cell_type": "code",
   "execution_count": 42,
   "metadata": {},
   "outputs": [
    {
     "data": {
      "text/plain": [
       "55239"
      ]
     },
     "execution_count": 42,
     "metadata": {},
     "output_type": "execute_result"
    }
   ],
   "source": [
    "vv = list(vocab_to_int.keys())\n",
    "len(vv)"
   ]
  },
  {
   "cell_type": "code",
   "execution_count": 43,
   "metadata": {},
   "outputs": [
    {
     "data": {
      "text/plain": [
       "True"
      ]
     },
     "execution_count": 43,
     "metadata": {},
     "output_type": "execute_result"
    }
   ],
   "source": [
    "'homer' in vv"
   ]
  },
  {
   "cell_type": "markdown",
   "metadata": {},
   "source": [
    "# The TV Script is Nonsensical\n",
    "It's ok if the TV script doesn't make any sense.  We trained on less than a megabyte of text.  In order to get good results, you'll have to use a smaller vocabulary or get more data.  Luckily there's more data!  As we mentioned in the beggining of this project, this is a subset of [another dataset](https://www.kaggle.com/wcukierski/the-simpsons-by-the-data).  We didn't have you train on all the data, because that would take too long.  However, you are free to train your neural network on all the data.  After you complete the project, of course.\n",
    "# Submitting This Project\n",
    "When submitting this project, make sure to run all the cells before saving the notebook. Save the notebook file as \"dlnd_tv_script_generation.ipynb\" and save it as a HTML file under \"File\" -> \"Download as\". Include the \"helper.py\" and \"problem_unittests.py\" files in your submission."
   ]
  }
 ],
 "metadata": {
  "kernelspec": {
   "display_name": "Python 3",
   "language": "python",
   "name": "python3"
  },
  "language_info": {
   "codemirror_mode": {
    "name": "ipython",
    "version": 3
   },
   "file_extension": ".py",
   "mimetype": "text/x-python",
   "name": "python",
   "nbconvert_exporter": "python",
   "pygments_lexer": "ipython3",
   "version": "3.6.5"
  },
  "widgets": {
   "state": {},
   "version": "1.1.2"
  }
 },
 "nbformat": 4,
 "nbformat_minor": 1
}
